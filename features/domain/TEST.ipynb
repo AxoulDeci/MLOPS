{
 "cells": [
  {
   "cell_type": "code",
   "execution_count": 57,
   "metadata": {},
   "outputs": [],
   "source": [
    "import pandas as pd \n",
    "import numpy as np\n",
    "import sys\n",
    "import os\n",
    "import unittest"
   ]
  },
  {
   "cell_type": "code",
   "execution_count": 58,
   "metadata": {},
   "outputs": [],
   "source": [
    "mlops_path = os.path.abspath(os.path.join(os.getcwd(), '..'))\n",
    "features_domain_path = os.path.join(mlops_path, 'features', 'domain')\n",
    "sys.path.append(features_domain_path)"
   ]
  },
  {
   "cell_type": "code",
   "execution_count": 59,
   "metadata": {},
   "outputs": [],
   "source": [
    "from features import *"
   ]
  },
  {
   "attachments": {},
   "cell_type": "markdown",
   "metadata": {},
   "source": [
    "### Test unitaire sur la fonction traiter_donnees_manquantes"
   ]
  },
  {
   "cell_type": "code",
   "execution_count": 60,
   "metadata": {},
   "outputs": [
    {
     "name": "stderr",
     "output_type": "stream",
     "text": [
      "..\n",
      "----------------------------------------------------------------------\n",
      "Ran 2 tests in 0.010s\n",
      "\n",
      "OK\n"
     ]
    },
    {
     "name": "stdout",
     "output_type": "stream",
     "text": [
      "Début du test de traitement des données manquantes...\n",
      "Résultat du test : Le traitement des données manquantes est conforme.\n"
     ]
    }
   ],
   "source": [
    "class TestTraitementDonneesManquantes(unittest.TestCase):\n",
    "\n",
    "    def test_traiter_donnees_manquantes(self):\n",
    "        print(\"Début du test de traitement des données manquantes...\")\n",
    "        data = {\n",
    "            'workclass': ['Private', 'Self-emp', None, 'Self-emp', 'Private'],\n",
    "            'occupation': [None, 'Exec', 'Adm-clerical', 'Adm-clerical', 'Sales'],\n",
    "            'native-country': ['USA', 'Mexico', None, 'Canada', 'USA']\n",
    "        }\n",
    "        df = pd.DataFrame(data)\n",
    "\n",
    "        processed_df = traiter_donnees_manquantes(df.copy())\n",
    "\n",
    "        expected_result = {\n",
    "            'workclass': ['Private', 'Self-emp', 'no_info', 'Self-emp', 'Private'],\n",
    "            'occupation': ['no_info', 'Exec', 'Adm-clerical', 'Adm-clerical', 'Sales'],\n",
    "            'native-country': ['USA', 'Mexico', 'USA', 'Canada', 'USA']\n",
    "        }\n",
    "        expected_df = pd.DataFrame(expected_result)\n",
    "\n",
    "        self.assertTrue(processed_df.equals(expected_df))\n",
    "        print(\"Résultat du test : Le traitement des données manquantes est conforme.\")\n",
    "\n",
    "if __name__ == '__main__':\n",
    "    unittest.main(argv=[''], exit=False)\n"
   ]
  },
  {
   "attachments": {},
   "cell_type": "markdown",
   "metadata": {},
   "source": [
    "### Test unitaire sur la fonction regroupement"
   ]
  },
  {
   "cell_type": "code",
   "execution_count": 61,
   "metadata": {},
   "outputs": [
    {
     "name": "stderr",
     "output_type": "stream",
     "text": [
      "..\n",
      "----------------------------------------------------------------------\n",
      "Ran 2 tests in 0.012s\n",
      "\n",
      "OK\n"
     ]
    },
    {
     "name": "stdout",
     "output_type": "stream",
     "text": [
      "Début du test de traitement des données manquantes...\n",
      "Résultat du test : Le traitement des données manquantes est conforme.\n"
     ]
    }
   ],
   "source": [
    "class TestRegroupement(unittest.TestCase):\n",
    "\n",
    "    def setUp(self):\n",
    "        # Création d'un exemple de DataFrame pour les tests\n",
    "        data = {\n",
    "            'age': [25, 30, 40, 55, 20],\n",
    "            'hours-per-week': [35, 45, 50, 60, 30],\n",
    "            'native-country': ['United-States', 'Canada', 'Mexico', 'United-States', 'Canada'],\n",
    "            'workclass': ['Private', 'Federal-gov', 'Self-emp', 'Local-gov', 'Private'],\n",
    "            'marital-status': ['Married-civ-spouse', 'Never-married', 'Divorced', 'Married-AF-spouse', 'Separated'],\n",
    "            'education': ['HS-grad', 'Bachelors', 'Masters', 'Some-college', 'Assoc-acdm'],\n",
    "            'occupation': ['Exec-managerial', 'Adm-clerical', 'Craft-repair', 'Prof-specialty', 'Sales'],\n",
    "            'relationship': ['Husband', 'Not-in-family', 'Own-child', 'Wife', 'Other-relative']\n",
    "        }\n",
    "        self.df = pd.DataFrame(data)\n",
    "\n",
    "    def test_regroupement(self):\n",
    "        processed_df = regroupement(self.df.copy())  # Copie pour éviter les modifications directes\n",
    "\n",
    "        # Vérifications des transformations sur le DataFrame\n",
    "\n",
    "        # Vérification pour la variable 'Age'\n",
    "        expected_age_result = ['<=28 ans', '29_39 ans', '40_49 ans', '>=50 ans', '<=28 ans']\n",
    "        self.assertEqual(processed_df['Age'].tolist(), expected_age_result)\n",
    "\n",
    "        # Vérification pour la variable 'Heures_semaine'\n",
    "        expected_hours_result = ['<=40H', '40_46H', '>46H', '>46H', '<=40H']\n",
    "        self.assertEqual(processed_df['Heures_semaine'].tolist(), expected_hours_result)\n",
    "\n",
    "        # Vérification pour la variable 'country_group'\n",
    "        expected_country_result = ['United_States', 'autres_pays', 'autres_pays', 'United_States', 'autres_pays']\n",
    "        self.assertEqual(processed_df['country_group'].tolist(), expected_country_result)\n",
    "\n",
    "        # Ajoutez d'autres vérifications pour chaque variable modifiée\n",
    "\n",
    "# Exécution des tests\n",
    "if __name__ == '__main__':\n",
    "    unittest.main(argv=[''], exit=False)\n"
   ]
  }
 ],
 "metadata": {
  "kernelspec": {
   "display_name": "base",
   "language": "python",
   "name": "python3"
  },
  "language_info": {
   "codemirror_mode": {
    "name": "ipython",
    "version": 3
   },
   "file_extension": ".py",
   "mimetype": "text/x-python",
   "name": "python",
   "nbconvert_exporter": "python",
   "pygments_lexer": "ipython3",
   "version": "3.10.9"
  },
  "orig_nbformat": 4
 },
 "nbformat": 4,
 "nbformat_minor": 2
}
