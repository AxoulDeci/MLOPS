{
 "cells": [
  {
   "cell_type": "code",
   "execution_count": 20,
   "metadata": {},
   "outputs": [],
   "source": [
    "import sys\n",
    "import os"
   ]
  },
  {
   "attachments": {},
   "cell_type": "markdown",
   "metadata": {},
   "source": [
    "# Importation des fonctions"
   ]
  },
  {
   "cell_type": "code",
   "execution_count": 22,
   "metadata": {},
   "outputs": [],
   "source": [
    "mlops_path = os.path.abspath(os.path.join(os.getcwd(), '..'))\n",
    "\n",
    "# Ajoutez le dossier features/domain au chemin\n",
    "features_domain_path = os.path.join(mlops_path, 'features', 'domain')\n",
    "sys.path.append(features_domain_path)\n",
    "\n",
    "# Maintenant, vous pouvez importer des modules/fonctions depuis features/domain\n",
    "from features import *"
   ]
  },
  {
   "cell_type": "code",
   "execution_count": 23,
   "metadata": {},
   "outputs": [],
   "source": [
    "features_infrastructure_path = os.path.join(mlops_path, 'features', 'infrastructure')\n",
    "sys.path.append(features_infrastructure_path)\n",
    "\n",
    "# Maintenant, vous pouvez importer des modules/fonctions depuis features/domain\n",
    "from importation import *"
   ]
  },
  {
   "cell_type": "code",
   "execution_count": 24,
   "metadata": {},
   "outputs": [],
   "source": [
    "features_models_path = os.path.join(mlops_path, 'models')\n",
    "sys.path.append(features_models_path)\n",
    "\n",
    "# Maintenant, vous pouvez importer des modules/fonctions depuis features/domain\n",
    "from train_model import *"
   ]
  },
  {
   "attachments": {},
   "cell_type": "markdown",
   "metadata": {},
   "source": [
    "# Appel de toutes les fonctions features :"
   ]
  },
  {
   "cell_type": "code",
   "execution_count": 25,
   "metadata": {},
   "outputs": [
    {
     "data": {
      "text/html": [
       "<div>\n",
       "<style scoped>\n",
       "    .dataframe tbody tr th:only-of-type {\n",
       "        vertical-align: middle;\n",
       "    }\n",
       "\n",
       "    .dataframe tbody tr th {\n",
       "        vertical-align: top;\n",
       "    }\n",
       "\n",
       "    .dataframe thead th {\n",
       "        text-align: right;\n",
       "    }\n",
       "</style>\n",
       "<table border=\"1\" class=\"dataframe\">\n",
       "  <thead>\n",
       "    <tr style=\"text-align: right;\">\n",
       "      <th></th>\n",
       "      <th>gender</th>\n",
       "      <th>income</th>\n",
       "      <th>Age</th>\n",
       "      <th>Heures_semaine</th>\n",
       "      <th>Marital_status</th>\n",
       "      <th>Education</th>\n",
       "      <th>Occupation</th>\n",
       "      <th>Relationship</th>\n",
       "      <th>capital</th>\n",
       "    </tr>\n",
       "  </thead>\n",
       "  <tbody>\n",
       "    <tr>\n",
       "      <th>0</th>\n",
       "      <td>Male</td>\n",
       "      <td>&lt;=50K</td>\n",
       "      <td>&lt;=28 ans</td>\n",
       "      <td>&lt;=40H</td>\n",
       "      <td>Jamais_marie</td>\n",
       "      <td>Lycee</td>\n",
       "      <td>Artisan_Reparation</td>\n",
       "      <td>Autre</td>\n",
       "      <td>-0.191029</td>\n",
       "    </tr>\n",
       "    <tr>\n",
       "      <th>1</th>\n",
       "      <td>Male</td>\n",
       "      <td>&lt;=50K</td>\n",
       "      <td>29_39 ans</td>\n",
       "      <td>&gt;46H</td>\n",
       "      <td>Marie</td>\n",
       "      <td>Lycee</td>\n",
       "      <td>Artisan_Reparation</td>\n",
       "      <td>Conjoint</td>\n",
       "      <td>-0.191029</td>\n",
       "    </tr>\n",
       "    <tr>\n",
       "      <th>2</th>\n",
       "      <td>Male</td>\n",
       "      <td>&gt;50K</td>\n",
       "      <td>&lt;=28 ans</td>\n",
       "      <td>&lt;=40H</td>\n",
       "      <td>Marie</td>\n",
       "      <td>Sup</td>\n",
       "      <td>Armee_defense</td>\n",
       "      <td>Conjoint</td>\n",
       "      <td>-0.191029</td>\n",
       "    </tr>\n",
       "    <tr>\n",
       "      <th>3</th>\n",
       "      <td>Male</td>\n",
       "      <td>&gt;50K</td>\n",
       "      <td>40_49 ans</td>\n",
       "      <td>&lt;=40H</td>\n",
       "      <td>Marie</td>\n",
       "      <td>Sup</td>\n",
       "      <td>Artisan_Reparation</td>\n",
       "      <td>Conjoint</td>\n",
       "      <td>2.779084</td>\n",
       "    </tr>\n",
       "    <tr>\n",
       "      <th>4</th>\n",
       "      <td>Female</td>\n",
       "      <td>&lt;=50K</td>\n",
       "      <td>&lt;=28 ans</td>\n",
       "      <td>&lt;=40H</td>\n",
       "      <td>Jamais_marie</td>\n",
       "      <td>Sup</td>\n",
       "      <td>Autre</td>\n",
       "      <td>Autre</td>\n",
       "      <td>-0.191029</td>\n",
       "    </tr>\n",
       "  </tbody>\n",
       "</table>\n",
       "</div>"
      ],
      "text/plain": [
       "   gender income        Age Heures_semaine Marital_status Education  \\\n",
       "0    Male  <=50K   <=28 ans          <=40H   Jamais_marie     Lycee   \n",
       "1    Male  <=50K  29_39 ans           >46H          Marie     Lycee   \n",
       "2    Male   >50K   <=28 ans          <=40H          Marie       Sup   \n",
       "3    Male   >50K  40_49 ans          <=40H          Marie       Sup   \n",
       "4  Female  <=50K   <=28 ans          <=40H   Jamais_marie       Sup   \n",
       "\n",
       "           Occupation Relationship   capital  \n",
       "0  Artisan_Reparation        Autre -0.191029  \n",
       "1  Artisan_Reparation     Conjoint -0.191029  \n",
       "2       Armee_defense     Conjoint -0.191029  \n",
       "3  Artisan_Reparation     Conjoint  2.779084  \n",
       "4               Autre        Autre -0.191029  "
      ]
     },
     "execution_count": 25,
     "metadata": {},
     "output_type": "execute_result"
    }
   ],
   "source": [
    "df=importation()\n",
    "df=traiter_donnees_manquantes(df)\n",
    "df=regroupement(df)\n",
    "df=traitement_capital(df)\n",
    "df=supprimer_colonnes(df)\n",
    "\n",
    "df.head()"
   ]
  },
  {
   "attachments": {},
   "cell_type": "markdown",
   "metadata": {},
   "source": [
    "# Entrainement des modèles"
   ]
  },
  {
   "cell_type": "code",
   "execution_count": 26,
   "metadata": {},
   "outputs": [
    {
     "name": "stdout",
     "output_type": "stream",
     "text": [
      "DecisionTreeClassifier a été entrainé\n",
      "RandomForestClassifier a été entrainé\n",
      "AdaBoostClassifier a été entrainé\n",
      "KNeighborsClassifier a été entrainé\n",
      "SVC a été entrainé\n",
      "LogisticRegression a été entrainé\n",
      "MLPClassifier a été entrainé\n"
     ]
    }
   ],
   "source": [
    "tree=fit_tree(df)\n",
    "forest=fit_forest(df)\n",
    "ada=fit_ada(df)\n",
    "knn=fit_knn(df)\n",
    "svc=fit_svc(df)\n",
    "log=fit_log(df)\n",
    "mlp=fit_mlp(df)"
   ]
  },
  {
   "attachments": {},
   "cell_type": "markdown",
   "metadata": {},
   "source": [
    "# Score des modèles"
   ]
  },
  {
   "cell_type": "code",
   "execution_count": 27,
   "metadata": {},
   "outputs": [
    {
     "name": "stdout",
     "output_type": "stream",
     "text": [
      "Accuracy apprentissage:  0.8420489464442493\n",
      "Accuracy test:  0.8502880658436214\n",
      "Precision: 0.7660878447395302\n",
      "Recall: 0.5242922055225445\n",
      "F1: 0.6225357958082589\n",
      "AUC: 0.7374932876035588\n"
     ]
    }
   ],
   "source": [
    "model_score(tree,df)"
   ]
  },
  {
   "cell_type": "code",
   "execution_count": 28,
   "metadata": {},
   "outputs": [
    {
     "name": "stdout",
     "output_type": "stream",
     "text": [
      "Accuracy apprentissage:  0.874862818261633\n",
      "Accuracy test:  0.8615637860082305\n",
      "Precision: 0.7550843790566855\n",
      "Recall: 0.6099265990912268\n",
      "F1: 0.6747873163186388\n",
      "AUC: 0.7744971567961247\n"
     ]
    }
   ],
   "source": [
    "model_score(forest,df)"
   ]
  },
  {
   "cell_type": "code",
   "execution_count": 29,
   "metadata": {},
   "outputs": [
    {
     "name": "stdout",
     "output_type": "stream",
     "text": [
      "Accuracy apprentissage:  0.8551360842844601\n",
      "Accuracy test:  0.8609876543209877\n",
      "Precision: 0.7528041415012943\n",
      "Recall: 0.6099265990912268\n",
      "F1: 0.6738752654952693\n",
      "AUC: 0.774120367044806\n"
     ]
    }
   ],
   "source": [
    "model_score(ada,df)"
   ]
  },
  {
   "cell_type": "code",
   "execution_count": 30,
   "metadata": {},
   "outputs": [
    {
     "name": "stdout",
     "output_type": "stream",
     "text": [
      "Accuracy apprentissage:  0.8495665057067603\n",
      "Accuracy test:  0.8377777777777777\n",
      "Precision: 0.6772908366533864\n",
      "Recall: 0.5941978329255505\n",
      "F1: 0.6330292310556693\n",
      "AUC: 0.7534989595244612\n"
     ]
    }
   ],
   "source": [
    "model_score(knn,df)"
   ]
  },
  {
   "cell_type": "code",
   "execution_count": 17,
   "metadata": {},
   "outputs": [
    {
     "name": "stdout",
     "output_type": "stream",
     "text": [
      "Accuracy apprentissage:  0.8528314310798947\n",
      "Accuracy test:  0.8574485596707819\n",
      "Precision: 0.7578803106441298\n",
      "Recall: 0.5798671793079343\n",
      "F1: 0.6570297029702971\n",
      "AUC: 0.7614052227684036\n"
     ]
    }
   ],
   "source": [
    "model_score(svc,df)"
   ]
  },
  {
   "cell_type": "code",
   "execution_count": 31,
   "metadata": {},
   "outputs": [
    {
     "name": "stdout",
     "output_type": "stream",
     "text": [
      "Accuracy apprentissage:  0.8418294556628622\n",
      "Accuracy test:  0.8452674897119341\n",
      "Precision: 0.706700379266751\n",
      "Recall: 0.5861586857742048\n",
      "F1: 0.6408100878868935\n",
      "AUC: 0.7556156761845509\n"
     ]
    }
   ],
   "source": [
    "model_score(log,df)"
   ]
  },
  {
   "cell_type": "code",
   "execution_count": 32,
   "metadata": {},
   "outputs": [
    {
     "name": "stdout",
     "output_type": "stream",
     "text": [
      "Accuracy apprentissage:  0.8553830114135206\n",
      "Accuracy test:  0.8581069958847737\n",
      "Precision: 0.7507719453021614\n",
      "Recall: 0.5948968891995806\n",
      "F1: 0.6638065522620905\n",
      "AUC: 0.7670361289576327\n"
     ]
    }
   ],
   "source": [
    "model_score(mlp,df)"
   ]
  }
 ],
 "metadata": {
  "kernelspec": {
   "display_name": "base",
   "language": "python",
   "name": "python3"
  },
  "language_info": {
   "codemirror_mode": {
    "name": "ipython",
    "version": 3
   },
   "file_extension": ".py",
   "mimetype": "text/x-python",
   "name": "python",
   "nbconvert_exporter": "python",
   "pygments_lexer": "ipython3",
   "version": "3.10.9"
  },
  "orig_nbformat": 4
 },
 "nbformat": 4,
 "nbformat_minor": 2
}
