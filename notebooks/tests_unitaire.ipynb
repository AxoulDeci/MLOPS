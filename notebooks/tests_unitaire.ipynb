{
 "cells": [
  {
   "cell_type": "code",
   "execution_count": 20,
   "metadata": {},
   "outputs": [],
   "source": [
    "import unittest\n",
    "import pandas as pd \n",
    "import matplotlib.pyplot as plt\n",
    "import seaborn as sns\n",
    "import numpy as np\n",
    "from sklearn.preprocessing import StandardScaler\n",
    "import sys\n",
    "import os"
   ]
  },
  {
   "cell_type": "code",
   "execution_count": 25,
   "metadata": {},
   "outputs": [
    {
     "name": "stderr",
     "output_type": "stream",
     "text": [
      "EEE\n",
      "======================================================================\n",
      "ERROR: test_importation (__main__.TestImportation)\n",
      "----------------------------------------------------------------------\n",
      "Traceback (most recent call last):\n",
      "  File \"C:\\Users\\274524\\AppData\\Local\\Temp\\ipykernel_8584\\490628812.py\", line 15, in test_importation\n",
      "    df = importation(nom_fichier)\n",
      "  File \"C:\\Users\\274524\\AppData\\Local\\Temp\\ipykernel_8584\\490628812.py\", line 6, in importation\n",
      "    return pd.read_csv(nom_fichier)\n",
      "  File \"c:\\ProgramData\\anaconda3\\lib\\site-packages\\pandas\\util\\_decorators.py\", line 211, in wrapper\n",
      "    return func(*args, **kwargs)\n",
      "  File \"c:\\ProgramData\\anaconda3\\lib\\site-packages\\pandas\\util\\_decorators.py\", line 331, in wrapper\n",
      "    return func(*args, **kwargs)\n",
      "  File \"c:\\ProgramData\\anaconda3\\lib\\site-packages\\pandas\\io\\parsers\\readers.py\", line 950, in read_csv\n",
      "    return _read(filepath_or_buffer, kwds)\n",
      "  File \"c:\\ProgramData\\anaconda3\\lib\\site-packages\\pandas\\io\\parsers\\readers.py\", line 605, in _read\n",
      "    parser = TextFileReader(filepath_or_buffer, **kwds)\n",
      "  File \"c:\\ProgramData\\anaconda3\\lib\\site-packages\\pandas\\io\\parsers\\readers.py\", line 1442, in __init__\n",
      "    self._engine = self._make_engine(f, self.engine)\n",
      "  File \"c:\\ProgramData\\anaconda3\\lib\\site-packages\\pandas\\io\\parsers\\readers.py\", line 1735, in _make_engine\n",
      "    self.handles = get_handle(\n",
      "  File \"c:\\ProgramData\\anaconda3\\lib\\site-packages\\pandas\\io\\common.py\", line 856, in get_handle\n",
      "    handle = open(\n",
      "FileNotFoundError: [Errno 2] No such file or directory: 'adult.csv'\n",
      "\n",
      "======================================================================\n",
      "ERROR: test_traitement_valeurs_manquantes (__main__.TestTraitementDonneesManquantes)\n",
      "----------------------------------------------------------------------\n",
      "Traceback (most recent call last):\n",
      "  File \"C:\\Users\\274524\\AppData\\Local\\Temp\\ipykernel_8584\\294121955.py\", line 8, in test_traitement_valeurs_manquantes\n",
      "    self.assertEqual(traiter_donnees_manquantes(data_list, 'valeur'), expected_list)\n",
      "NameError: name 'traiter_donnees_manquantes' is not defined\n",
      "\n",
      "======================================================================\n",
      "ERROR: test_traitement_valeurs_manquantes_chaine (__main__.TestTraitementDonneesManquantes)\n",
      "----------------------------------------------------------------------\n",
      "Traceback (most recent call last):\n",
      "  File \"C:\\Users\\274524\\AppData\\Local\\Temp\\ipykernel_8584\\294121955.py\", line 14, in test_traitement_valeurs_manquantes_chaine\n",
      "    self.assertEqual(traiter_donnees_manquantes(list(data_string.split(', ')), 'valeur'), list(expected_string.split(', ')))\n",
      "NameError: name 'traiter_donnees_manquantes' is not defined\n",
      "\n",
      "----------------------------------------------------------------------\n",
      "Ran 3 tests in 0.004s\n",
      "\n",
      "FAILED (errors=3)\n"
     ]
    }
   ],
   "source": [
    "import unittest\n",
    "import pandas as pd\n",
    "\n",
    "# Définition de la fonction d'importation (à compléter avec votre propre logique d'importation)\n",
    "def importation(nom_fichier):\n",
    "    return pd.read_csv(nom_fichier)\n",
    "\n",
    "# Définition de la classe de test\n",
    "class TestImportation(unittest.TestCase):\n",
    "    def test_importation(self):\n",
    "        # Nom du fichier à importer\n",
    "        nom_fichier = 'adult.csv'  # Remplacez par le nom de votre fichier CSV\n",
    "\n",
    "        # Appeler la fonction d'importation pour importer les données\n",
    "        df = importation(nom_fichier)\n",
    "\n",
    "        # Vérifier si le DataFrame a été correctement importé\n",
    "        self.assertIsNotNone(df)\n",
    "        # Autres vérifications spécifiques aux données importées, si nécessaire\n",
    "\n",
    "# Appel pour exécuter les tests\n",
    "if __name__ == '__main__':\n",
    "    unittest.main(argv=[''], exit=False)\n"
   ]
  }
 ],
 "metadata": {
  "kernelspec": {
   "display_name": "base",
   "language": "python",
   "name": "python3"
  },
  "language_info": {
   "codemirror_mode": {
    "name": "ipython",
    "version": 3
   },
   "file_extension": ".py",
   "mimetype": "text/x-python",
   "name": "python",
   "nbconvert_exporter": "python",
   "pygments_lexer": "ipython3",
   "version": "3.10.9"
  },
  "orig_nbformat": 4
 },
 "nbformat": 4,
 "nbformat_minor": 2
}
